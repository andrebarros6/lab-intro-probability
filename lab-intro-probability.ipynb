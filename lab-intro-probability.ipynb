{
 "cells": [
  {
   "cell_type": "markdown",
   "metadata": {},
   "source": [
    "# Lab | Intro to Probability"
   ]
  },
  {
   "cell_type": "markdown",
   "metadata": {},
   "source": [
    "**Objective**\n",
    "\n",
    "Welcome to this Intro to Probability lab, where we explore decision-making scenarios through the lens of probability and strategic analysis. In the business world, making informed decisions is crucial, especially when faced with uncertainties. This lab focuses on scenarios where probabilistic outcomes play a significant role in shaping strategies and outcomes. Students will engage in exercises that require assessing and choosing optimal paths based on data-driven insights. The goal is to enhance your skills by applying probability concepts to solve real-world problems."
   ]
  },
  {
   "cell_type": "code",
   "execution_count": 2,
   "metadata": {},
   "outputs": [],
   "source": [
    "import matplotlib.pyplot as plt\n",
    "import numpy as np\n",
    "\n",
    "from scipy.stats import binom\n",
    "from scipy.stats import geom\n",
    "from scipy.stats import poisson\n",
    "from scipy.stats import expon\n",
    "from scipy.stats import norm"
   ]
  },
  {
   "cell_type": "markdown",
   "metadata": {},
   "source": [
    "**Challenge 1**"
   ]
  },
  {
   "cell_type": "markdown",
   "metadata": {},
   "source": [
    "#### Ironhack Airlines \n",
    "\n",
    "Often Airlines sell more tickets than they have seats available, this is called overbooking. Consider the following:\n",
    "- A plane has 450 seats. \n",
    "- Based on historical data we conclude that each individual passenger has a 3% chance of missing it's flight. \n",
    "\n",
    "If the Ironhack Airlines routinely sells 460 tickets, what is the chance that they have a seats for all passenger?"
   ]
  },
  {
   "cell_type": "code",
   "execution_count": 57,
   "metadata": {},
   "outputs": [
    {
     "name": "stdout",
     "output_type": "stream",
     "text": [
      "The probability of having seats for all passengers is 88.4%.\n"
     ]
    }
   ],
   "source": [
    "#code here\n",
    "n = 460\n",
    "p = 1 - 0.03\n",
    "\n",
    "binom_dist = binom(n, p)\n",
    "prob = binom_dist.cdf(450)\n",
    "\n",
    "print(f\"The probability of having seats for all passengers is {round(prob,3)*100}%.\")"
   ]
  },
  {
   "cell_type": "markdown",
   "metadata": {},
   "source": [
    "**Challenge 2**"
   ]
  },
  {
   "cell_type": "markdown",
   "metadata": {},
   "source": [
    "#### Ironhack Call Center "
   ]
  },
  {
   "cell_type": "markdown",
   "metadata": {},
   "source": [
    "Suppose a customer service representative at a call center is handling customer complaints. Consider the following:\n",
    "- The probability of successfully resolving a customer complaint on the first attempt is 0.3. \n",
    "\n",
    "\n",
    "What is the probability that the representative needs to make at least three attempts before successfully resolving a customer complaint?"
   ]
  },
  {
   "cell_type": "code",
   "execution_count": 55,
   "metadata": {},
   "outputs": [
    {
     "name": "stdout",
     "output_type": "stream",
     "text": [
      "The probability of resolving the customer complaint at the third attempt or after is 49.0%.\n"
     ]
    }
   ],
   "source": [
    "#code here\n",
    "p = 0.3 \n",
    "geom_dist = geom(p)\n",
    "\n",
    "#fail + fail + sucess or after\n",
    "#no sucess in the first 2 attempts\n",
    "#prob 2 = 1 - prob of sucess in any of the first 2 attempts\n",
    "prob2 = 1 - geom_dist.cdf(2) \n",
    "\n",
    "print(f\"The probability of resolving the customer complaint at the third attempt or after is {round(prob2,2)*100}%.\")\n"
   ]
  },
  {
   "cell_type": "markdown",
   "metadata": {},
   "source": [
    "**Challenge 3**"
   ]
  },
  {
   "cell_type": "markdown",
   "metadata": {},
   "source": [
    "#### Ironhack Website"
   ]
  },
  {
   "cell_type": "markdown",
   "metadata": {},
   "source": [
    "Consider a scenario related to Ironhack website traffic. Where:\n",
    "- our website takes on average 500 visits per hour.\n",
    "- the website's server is designed to handle up to 550 vists per hour.\n",
    "\n",
    "\n",
    "What is the probability of the website server being overwhelmed?"
   ]
  },
  {
   "cell_type": "code",
   "execution_count": 52,
   "metadata": {},
   "outputs": [
    {
     "name": "stdout",
     "output_type": "stream",
     "text": [
      "The probability of the server being overwhelmed in any given hour is 1.29%.\n"
     ]
    }
   ],
   "source": [
    "#code here\n",
    "mu = 500 # tipical n of visits per hour\n",
    "poisson_dist = poisson(mu)\n",
    "prob3 = 1 - poisson_dist.cdf(550)\n",
    "\n",
    "print(f\"The probability of the server being overwhelmed in any given hour is {round(prob3,4) * 100}%.\")\n"
   ]
  },
  {
   "cell_type": "markdown",
   "metadata": {},
   "source": [
    "What is the probability of being overwhelmed at some point during a day? (consider 24hours)"
   ]
  },
  {
   "cell_type": "code",
   "execution_count": 51,
   "metadata": {},
   "outputs": [
    {
     "name": "stdout",
     "output_type": "stream",
     "text": [
      "The probability of the server being overwhelmed in a full day is 73.2%.\n"
     ]
    }
   ],
   "source": [
    "#code here\n",
    "prob3 # the probability of being overwhelmed in any given hour\n",
    "n = 24 #n of hours in a day\n",
    "\n",
    "binom_dist = binom(n, prob3)\n",
    "prob3_2 = binom_dist.pmf(0)\n",
    "print(f\"The probability of the server being overwhelmed in a full day is {round(prob3_2,3) * 100}%.\")"
   ]
  },
  {
   "cell_type": "markdown",
   "metadata": {},
   "source": [
    "**Challenge 4**"
   ]
  },
  {
   "cell_type": "markdown",
   "metadata": {},
   "source": [
    "#### Ironhack Helpdesk"
   ]
  },
  {
   "cell_type": "markdown",
   "metadata": {},
   "source": [
    "Consider a scenario related to the time between arrivals of customers at a service desk.\n",
    "\n",
    "On average, a customers arrives every 10minutes.\n",
    "\n",
    "What is the probability that the next customer will arrive within the next 5 minutes?"
   ]
  },
  {
   "cell_type": "code",
   "execution_count": 49,
   "metadata": {},
   "outputs": [
    {
     "name": "stdout",
     "output_type": "stream",
     "text": [
      "The probability of a customer arriving in the next 5 minutes is 39.35%.\n"
     ]
    }
   ],
   "source": [
    "mu = 10\n",
    "expon_dist = expon(scale=mu)\n",
    "\n",
    "prob4 = expon_dist.cdf(5)\n",
    "print(f\"The probability of a customer arriving in the next 5 minutes is {round(prob4,4) * 100}%.\")"
   ]
  },
  {
   "cell_type": "markdown",
   "metadata": {},
   "source": [
    "If there is no customer for 15minutes, employees can that a 5minutes break.\n",
    "\n",
    "What is the probability an employee taking a break?"
   ]
  },
  {
   "cell_type": "code",
   "execution_count": 48,
   "metadata": {},
   "outputs": [
    {
     "name": "stdout",
     "output_type": "stream",
     "text": [
      "The probability of an taking a break is 74.08%.\n"
     ]
    }
   ],
   "source": [
    "# 1 - prob of a customer arriving during the 15min period\n",
    "prob4_2 = 1 - expon_dist.cdf(15)\n",
    "\n",
    "print(f\"The probability of an taking a break is {round(prob4_2,4) * 100}%.\")"
   ]
  },
  {
   "cell_type": "markdown",
   "metadata": {},
   "source": [
    "**Challenge 5**"
   ]
  },
  {
   "cell_type": "markdown",
   "metadata": {},
   "source": [
    "The weights of a certain species of birds follow a normal distribution with a mean weight of 150 grams and a standard deviation of 10 grams. \n",
    "\n",
    "- If we randomly select a bird, what is the probability that its weight is between 140 and 160 grams?"
   ]
  },
  {
   "cell_type": "code",
   "execution_count": 46,
   "metadata": {},
   "outputs": [
    {
     "name": "stdout",
     "output_type": "stream",
     "text": [
      "The probability of a bird having between 140 and 160 g is 68.27%.\n"
     ]
    }
   ],
   "source": [
    "#code here\n",
    "#normal = gaussian\n",
    "\n",
    "mean = 150\n",
    "std = 10\n",
    "norm_dist = norm(loc = mean, scale = std)\n",
    "\n",
    "#prob of 160 - prob of 140\n",
    "prob5 = norm_dist.cdf(160) -  norm_dist.cdf(140)\n",
    "print(f\"The probability of a bird having between 140 and 160 g is {round(prob5,4) * 100}%.\")"
   ]
  },
  {
   "cell_type": "markdown",
   "metadata": {},
   "source": [
    "**Challenge 6**"
   ]
  },
  {
   "cell_type": "markdown",
   "metadata": {},
   "source": [
    "If the lifetime (in hours) of a certain electronic component follows an exponential distribution with a mean lifetime of 50 hours, what is the probability that the component fails within the first 30 hours?"
   ]
  },
  {
   "cell_type": "code",
   "execution_count": 47,
   "metadata": {},
   "outputs": [
    {
     "name": "stdout",
     "output_type": "stream",
     "text": [
      "The probability of the componenent failing within the first 30h is 45.12%.\n"
     ]
    }
   ],
   "source": [
    "#code here\n",
    "mu = 50\n",
    "expon_dist = expon(scale=mu)\n",
    "\n",
    "prob6 = expon_dist.cdf(30)\n",
    "print(f\"The probability of the componenent failing within the first 30h is {round(prob6,4) * 100}%.\")"
   ]
  }
 ],
 "metadata": {
  "kernelspec": {
   "display_name": "Python 3",
   "language": "python",
   "name": "python3"
  },
  "language_info": {
   "codemirror_mode": {
    "name": "ipython",
    "version": 3
   },
   "file_extension": ".py",
   "mimetype": "text/x-python",
   "name": "python",
   "nbconvert_exporter": "python",
   "pygments_lexer": "ipython3",
   "version": "3.13.1"
  }
 },
 "nbformat": 4,
 "nbformat_minor": 2
}
